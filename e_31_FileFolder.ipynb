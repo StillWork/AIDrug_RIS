{
  "cells": [
    {
      "cell_type": "markdown",
      "id": "347d5735",
      "metadata": {
        "id": "347d5735"
      },
      "source": [
        "# 파일 다루기\n",
        "- 파일 열기 open(), with로 열기\n",
        "- csv, xlsx 파일 다루기\n",
        "- zip 파일 다루기\n",
        "- 폴더 내 파일 목록 다루기 (glob, listdir)\n",
        "- 폴더/파일 생성과 삭제"
      ]
    },
    {
      "cell_type": "markdown",
      "id": "85c21065",
      "metadata": {
        "id": "85c21065"
      },
      "source": [
        "## import"
      ]
    },
    {
      "cell_type": "code",
      "execution_count": 1,
      "id": "9d63ff86",
      "metadata": {
        "id": "9d63ff86"
      },
      "outputs": [],
      "source": [
        "import pandas as pd\n",
        "import numpy as np\n",
        "from numpy.random import rand\n",
        "import csv\n",
        "import os\n",
        "from glob import glob"
      ]
    },
    {
      "cell_type": "markdown",
      "id": "a4a76086",
      "metadata": {
        "id": "a4a76086"
      },
      "source": [
        "##  데이터  생성과 저장하기\n",
        "- 숫자 데이터를 생성하고 csv 파일로 저장하기"
      ]
    },
    {
      "cell_type": "code",
      "execution_count": 2,
      "id": "ebdcfb7d",
      "metadata": {
        "scrolled": true,
        "colab": {
          "base_uri": "https://localhost:8080/"
        },
        "id": "ebdcfb7d",
        "outputId": "f28a1781-52cc-44c8-9f81-78305cf5a8f0"
      },
      "outputs": [
        {
          "output_type": "stream",
          "name": "stdout",
          "text": [
            "<class 'numpy.ndarray'>\n",
            "<class 'str'>\n",
            "0.816\n",
            "0.731\n",
            "0.567\n",
            "0.889\n",
            "0.852\n",
            "0.094\n",
            "0.834\n",
            "0.989\n",
            "0.719\n",
            "0.103\n",
            "\n"
          ]
        }
      ],
      "source": [
        "## 0~1 사이의 랜덤 넘버 10개를 만들고 csv 파일에 저장하고 확인하기\n",
        "\n",
        "import numpy as np\n",
        "x1 = np.random.rand(10)\n",
        "print(type(x1))         # ndarray 타입\n",
        "\n",
        "np.savetxt(\"test_1.csv\", x1, delimiter=\",\", fmt = '%.3f')\n",
        "\n",
        "with open('test_1.csv') as f: \n",
        "    contents = f.read()\n",
        "    print(type(contents))  # str 타입\n",
        "    print(contents)"
      ]
    },
    {
      "cell_type": "markdown",
      "id": "b97fb30e",
      "metadata": {
        "id": "b97fb30e"
      },
      "source": [
        "- !cat, !type 등 명령어로 직접 보기"
      ]
    },
    {
      "cell_type": "code",
      "execution_count": 3,
      "id": "2e5f8a10",
      "metadata": {
        "colab": {
          "base_uri": "https://localhost:8080/"
        },
        "id": "2e5f8a10",
        "outputId": "2be7e050-d944-4128-a7b8-ca814f55640c"
      },
      "outputs": [
        {
          "output_type": "stream",
          "name": "stdout",
          "text": [
            "0.816\n",
            "0.731\n",
            "0.567\n",
            "0.889\n",
            "0.852\n",
            "0.094\n",
            "0.834\n",
            "0.989\n",
            "0.719\n",
            "0.103\n"
          ]
        }
      ],
      "source": [
        "!cat test_1.csv # 맥이나 리눅스에서\n",
        "#!type test_1.csv  # 윈도우에서 "
      ]
    },
    {
      "cell_type": "code",
      "execution_count": 4,
      "id": "f84fa45b",
      "metadata": {
        "colab": {
          "base_uri": "https://localhost:8080/"
        },
        "id": "f84fa45b",
        "outputId": "769baa70-78db-4389-b2ae-62351d5d13bc"
      },
      "outputs": [
        {
          "output_type": "stream",
          "name": "stdout",
          "text": [
            "<class 'numpy.ndarray'>\n",
            "[81.6 73.1 56.7 88.9 85.2  9.4 83.4 98.9 71.9 10.3]\n"
          ]
        }
      ],
      "source": [
        "## csv 파일을 어레이로 읽어서 100을 곱한 값 보기\n",
        "\n",
        "x = np.loadtxt('test_1.csv', delimiter=',')\n",
        "print(type(x))    # ndarray 타입\n",
        "print(x*100)"
      ]
    },
    {
      "cell_type": "markdown",
      "id": "dfa5787a",
      "metadata": {
        "id": "dfa5787a"
      },
      "source": [
        "### 2차원 구조 데이터"
      ]
    },
    {
      "cell_type": "code",
      "execution_count": 5,
      "id": "80eaf897",
      "metadata": {
        "colab": {
          "base_uri": "https://localhost:8080/"
        },
        "id": "80eaf897",
        "outputId": "04fd6c22-0bca-46d9-b3ad-90f74be8cf65"
      },
      "outputs": [
        {
          "output_type": "stream",
          "name": "stdout",
          "text": [
            "<class 'str'>\n",
            "0,1,2,3,4,5\n",
            "6,7,8,9,10,11\n",
            "12,13,14,15,16,17\n",
            "18,19,20,21,22,23\n",
            "24,25,26,27,28,29\n",
            "\n"
          ]
        }
      ],
      "source": [
        "## 0~30 로 구성된 (5,6) 구조의 어레이를 csv 파일에 저장하기\n",
        "\n",
        "x2 = np.arange(30).reshape(5,6)\n",
        "\n",
        "np.savetxt(\"test_2.csv\", x2, delimiter=\",\", fmt = '%d')\n",
        "\n",
        "with open('test_2.csv') as f: \n",
        "    contents = f.read()\n",
        "    print(type(contents))  # str 타입\n",
        "    print(contents)"
      ]
    },
    {
      "cell_type": "code",
      "execution_count": 6,
      "id": "3d6c326b",
      "metadata": {
        "colab": {
          "base_uri": "https://localhost:8080/"
        },
        "id": "3d6c326b",
        "outputId": "00ee6e99-a255-43ab-841d-016a364aaf52"
      },
      "outputs": [
        {
          "output_type": "stream",
          "name": "stdout",
          "text": [
            "<class 'numpy.ndarray'>\n",
            "[[ 0.  1.  2.  3.  4.  5.]\n",
            " [ 6.  7.  8.  9. 10. 11.]\n",
            " [12. 13. 14. 15. 16. 17.]\n",
            " [18. 19. 20. 21. 22. 23.]\n",
            " [24. 25. 26. 27. 28. 29.]]\n"
          ]
        }
      ],
      "source": [
        "## 2차원 csv 파일을 어레이로 읽는 예\n",
        "\n",
        "x = np.loadtxt('test_2.csv', delimiter=',')\n",
        "print(type(x))\n",
        "print(x)"
      ]
    },
    {
      "cell_type": "code",
      "execution_count": 7,
      "id": "d671f7d5",
      "metadata": {
        "colab": {
          "base_uri": "https://localhost:8080/"
        },
        "id": "d671f7d5",
        "outputId": "80ba490e-0c48-41ab-cf2b-3f84ee16bb79"
      },
      "outputs": [
        {
          "output_type": "stream",
          "name": "stdout",
          "text": [
            "---- 3개의 행만 읽는다 ----\n",
            "[[ 0.  1.  2.  3.  4.  5.]\n",
            " [ 6.  7.  8.  9. 10. 11.]\n",
            " [12. 13. 14. 15. 16. 17.]\n",
            " [18. 19. 20. 21. 22. 23.]\n",
            " [24. 25. 26. 27. 28. 29.]]\n",
            "\n",
            "---- 처음 2개의 행은 읽지 않는다 ----\n",
            "[[12. 13. 14. 15. 16. 17.]\n",
            " [18. 19. 20. 21. 22. 23.]\n",
            " [24. 25. 26. 27. 28. 29.]]\n",
            "\n",
            "---- 컬럼을 (0,2,4)만 읽는다 ----\n",
            "[[ 0.  2.  4.]\n",
            " [ 6.  8. 10.]\n",
            " [12. 14. 16.]\n",
            " [18. 20. 22.]\n",
            " [24. 26. 28.]]\n"
          ]
        }
      ],
      "source": [
        "## loadtxt()가 제공하는 읽는 옵션\n",
        "\n",
        "print('---- 3개의 행만 읽는다 ----')\n",
        "x = np.loadtxt('test_2.csv', delimiter=',', max_rows=1000)\n",
        "print(x)\n",
        "\n",
        "print('\\n---- 처음 2개의 행은 읽지 않는다 ----')\n",
        "x = np.loadtxt('test_2.csv', delimiter=',', skiprows=2)\n",
        "print(x)\n",
        "\n",
        "print('\\n---- 컬럼을 (0,2,4)만 읽는다 ----')\n",
        "x = np.loadtxt('test_2.csv', delimiter=',', usecols=(0,2,4))\n",
        "print(x)"
      ]
    },
    {
      "cell_type": "code",
      "execution_count": 8,
      "id": "7a3bbb48",
      "metadata": {
        "colab": {
          "base_uri": "https://localhost:8080/"
        },
        "id": "7a3bbb48",
        "outputId": "00a61ef4-da1a-47fe-b329-9a4d22e73013"
      },
      "outputs": [
        {
          "output_type": "stream",
          "name": "stdout",
          "text": [
            "0,1,2,3,4,5\n",
            "6,7,8,9,10,11\n",
            "12,13,14,15,16,17\n",
            "18,19,20,21,22,23\n",
            "24,25,26,27,28,29\n"
          ]
        }
      ],
      "source": [
        "!cat test_2.csv"
      ]
    },
    {
      "cell_type": "markdown",
      "id": "278aa0e5",
      "metadata": {
        "id": "278aa0e5"
      },
      "source": [
        "## 데이터프레임으로 읽기"
      ]
    },
    {
      "cell_type": "code",
      "execution_count": 9,
      "id": "d56fac13",
      "metadata": {
        "colab": {
          "base_uri": "https://localhost:8080/",
          "height": 175
        },
        "id": "d56fac13",
        "outputId": "eb750b8d-78c4-4310-e586-85504b6a5633"
      },
      "outputs": [
        {
          "output_type": "execute_result",
          "data": {
            "text/plain": [
              "    0   1   2   3   4   5\n",
              "0   6   7   8   9  10  11\n",
              "1  12  13  14  15  16  17\n",
              "2  18  19  20  21  22  23\n",
              "3  24  25  26  27  28  29"
            ],
            "text/html": [
              "\n",
              "  <div id=\"df-0ca6e1d5-f196-4aa3-8e07-8e8b2bd1ed72\">\n",
              "    <div class=\"colab-df-container\">\n",
              "      <div>\n",
              "<style scoped>\n",
              "    .dataframe tbody tr th:only-of-type {\n",
              "        vertical-align: middle;\n",
              "    }\n",
              "\n",
              "    .dataframe tbody tr th {\n",
              "        vertical-align: top;\n",
              "    }\n",
              "\n",
              "    .dataframe thead th {\n",
              "        text-align: right;\n",
              "    }\n",
              "</style>\n",
              "<table border=\"1\" class=\"dataframe\">\n",
              "  <thead>\n",
              "    <tr style=\"text-align: right;\">\n",
              "      <th></th>\n",
              "      <th>0</th>\n",
              "      <th>1</th>\n",
              "      <th>2</th>\n",
              "      <th>3</th>\n",
              "      <th>4</th>\n",
              "      <th>5</th>\n",
              "    </tr>\n",
              "  </thead>\n",
              "  <tbody>\n",
              "    <tr>\n",
              "      <th>0</th>\n",
              "      <td>6</td>\n",
              "      <td>7</td>\n",
              "      <td>8</td>\n",
              "      <td>9</td>\n",
              "      <td>10</td>\n",
              "      <td>11</td>\n",
              "    </tr>\n",
              "    <tr>\n",
              "      <th>1</th>\n",
              "      <td>12</td>\n",
              "      <td>13</td>\n",
              "      <td>14</td>\n",
              "      <td>15</td>\n",
              "      <td>16</td>\n",
              "      <td>17</td>\n",
              "    </tr>\n",
              "    <tr>\n",
              "      <th>2</th>\n",
              "      <td>18</td>\n",
              "      <td>19</td>\n",
              "      <td>20</td>\n",
              "      <td>21</td>\n",
              "      <td>22</td>\n",
              "      <td>23</td>\n",
              "    </tr>\n",
              "    <tr>\n",
              "      <th>3</th>\n",
              "      <td>24</td>\n",
              "      <td>25</td>\n",
              "      <td>26</td>\n",
              "      <td>27</td>\n",
              "      <td>28</td>\n",
              "      <td>29</td>\n",
              "    </tr>\n",
              "  </tbody>\n",
              "</table>\n",
              "</div>\n",
              "      <button class=\"colab-df-convert\" onclick=\"convertToInteractive('df-0ca6e1d5-f196-4aa3-8e07-8e8b2bd1ed72')\"\n",
              "              title=\"Convert this dataframe to an interactive table.\"\n",
              "              style=\"display:none;\">\n",
              "        \n",
              "  <svg xmlns=\"http://www.w3.org/2000/svg\" height=\"24px\"viewBox=\"0 0 24 24\"\n",
              "       width=\"24px\">\n",
              "    <path d=\"M0 0h24v24H0V0z\" fill=\"none\"/>\n",
              "    <path d=\"M18.56 5.44l.94 2.06.94-2.06 2.06-.94-2.06-.94-.94-2.06-.94 2.06-2.06.94zm-11 1L8.5 8.5l.94-2.06 2.06-.94-2.06-.94L8.5 2.5l-.94 2.06-2.06.94zm10 10l.94 2.06.94-2.06 2.06-.94-2.06-.94-.94-2.06-.94 2.06-2.06.94z\"/><path d=\"M17.41 7.96l-1.37-1.37c-.4-.4-.92-.59-1.43-.59-.52 0-1.04.2-1.43.59L10.3 9.45l-7.72 7.72c-.78.78-.78 2.05 0 2.83L4 21.41c.39.39.9.59 1.41.59.51 0 1.02-.2 1.41-.59l7.78-7.78 2.81-2.81c.8-.78.8-2.07 0-2.86zM5.41 20L4 18.59l7.72-7.72 1.47 1.35L5.41 20z\"/>\n",
              "  </svg>\n",
              "      </button>\n",
              "      \n",
              "  <style>\n",
              "    .colab-df-container {\n",
              "      display:flex;\n",
              "      flex-wrap:wrap;\n",
              "      gap: 12px;\n",
              "    }\n",
              "\n",
              "    .colab-df-convert {\n",
              "      background-color: #E8F0FE;\n",
              "      border: none;\n",
              "      border-radius: 50%;\n",
              "      cursor: pointer;\n",
              "      display: none;\n",
              "      fill: #1967D2;\n",
              "      height: 32px;\n",
              "      padding: 0 0 0 0;\n",
              "      width: 32px;\n",
              "    }\n",
              "\n",
              "    .colab-df-convert:hover {\n",
              "      background-color: #E2EBFA;\n",
              "      box-shadow: 0px 1px 2px rgba(60, 64, 67, 0.3), 0px 1px 3px 1px rgba(60, 64, 67, 0.15);\n",
              "      fill: #174EA6;\n",
              "    }\n",
              "\n",
              "    [theme=dark] .colab-df-convert {\n",
              "      background-color: #3B4455;\n",
              "      fill: #D2E3FC;\n",
              "    }\n",
              "\n",
              "    [theme=dark] .colab-df-convert:hover {\n",
              "      background-color: #434B5C;\n",
              "      box-shadow: 0px 1px 3px 1px rgba(0, 0, 0, 0.15);\n",
              "      filter: drop-shadow(0px 1px 2px rgba(0, 0, 0, 0.3));\n",
              "      fill: #FFFFFF;\n",
              "    }\n",
              "  </style>\n",
              "\n",
              "      <script>\n",
              "        const buttonEl =\n",
              "          document.querySelector('#df-0ca6e1d5-f196-4aa3-8e07-8e8b2bd1ed72 button.colab-df-convert');\n",
              "        buttonEl.style.display =\n",
              "          google.colab.kernel.accessAllowed ? 'block' : 'none';\n",
              "\n",
              "        async function convertToInteractive(key) {\n",
              "          const element = document.querySelector('#df-0ca6e1d5-f196-4aa3-8e07-8e8b2bd1ed72');\n",
              "          const dataTable =\n",
              "            await google.colab.kernel.invokeFunction('convertToInteractive',\n",
              "                                                     [key], {});\n",
              "          if (!dataTable) return;\n",
              "\n",
              "          const docLinkHtml = 'Like what you see? Visit the ' +\n",
              "            '<a target=\"_blank\" href=https://colab.research.google.com/notebooks/data_table.ipynb>data table notebook</a>'\n",
              "            + ' to learn more about interactive tables.';\n",
              "          element.innerHTML = '';\n",
              "          dataTable['output_type'] = 'display_data';\n",
              "          await google.colab.output.renderOutput(dataTable, element);\n",
              "          const docLink = document.createElement('div');\n",
              "          docLink.innerHTML = docLinkHtml;\n",
              "          element.appendChild(docLink);\n",
              "        }\n",
              "      </script>\n",
              "    </div>\n",
              "  </div>\n",
              "  "
            ]
          },
          "metadata": {},
          "execution_count": 9
        }
      ],
      "source": [
        "## 2차원 어레이를 데이터프레임으로 읽기\n",
        "\n",
        "df = pd.read_csv('test_2.csv')  \n",
        "df"
      ]
    },
    {
      "cell_type": "code",
      "execution_count": 10,
      "id": "2ff243a0",
      "metadata": {
        "colab": {
          "base_uri": "https://localhost:8080/"
        },
        "id": "2ff243a0",
        "outputId": "f0882772-288c-4b59-99f7-497af589d7c0"
      },
      "outputs": [
        {
          "output_type": "execute_result",
          "data": {
            "text/plain": [
              "array([[ 6,  7,  8,  9, 10, 11],\n",
              "       [12, 13, 14, 15, 16, 17],\n",
              "       [18, 19, 20, 21, 22, 23],\n",
              "       [24, 25, 26, 27, 28, 29]])"
            ]
          },
          "metadata": {},
          "execution_count": 10
        }
      ],
      "source": [
        "# 어레이로 변환하기\n",
        "df.values"
      ]
    },
    {
      "cell_type": "markdown",
      "id": "997ff8ee",
      "metadata": {
        "id": "997ff8ee"
      },
      "source": [
        "### read_csv 옵션\n",
        "\n",
        "- nrows=1000         # 상위 1000줄만 읽기\n",
        "- skiprows = 3       # 처음 3행 건너뛰기\n",
        "- skipfooter = 1000 # 맨 뒤의 1000행은 읽지 않기\n",
        "- usecols= (0,2,4)  # 해당 컬럼만 읽기"
      ]
    },
    {
      "cell_type": "code",
      "execution_count": 11,
      "id": "b631959e",
      "metadata": {
        "colab": {
          "base_uri": "https://localhost:8080/",
          "height": 143
        },
        "id": "b631959e",
        "outputId": "1352f0d5-0ec7-4c50-a2a4-9766e0794876"
      },
      "outputs": [
        {
          "output_type": "execute_result",
          "data": {
            "text/plain": [
              "    0   1   2   3   4   5\n",
              "0   0   1   2   3   4   5\n",
              "1   6   7   8   9  10  11\n",
              "2  12  13  14  15  16  17"
            ],
            "text/html": [
              "\n",
              "  <div id=\"df-baebb032-5c9b-4c3f-8a32-1d6843950f8b\">\n",
              "    <div class=\"colab-df-container\">\n",
              "      <div>\n",
              "<style scoped>\n",
              "    .dataframe tbody tr th:only-of-type {\n",
              "        vertical-align: middle;\n",
              "    }\n",
              "\n",
              "    .dataframe tbody tr th {\n",
              "        vertical-align: top;\n",
              "    }\n",
              "\n",
              "    .dataframe thead th {\n",
              "        text-align: right;\n",
              "    }\n",
              "</style>\n",
              "<table border=\"1\" class=\"dataframe\">\n",
              "  <thead>\n",
              "    <tr style=\"text-align: right;\">\n",
              "      <th></th>\n",
              "      <th>0</th>\n",
              "      <th>1</th>\n",
              "      <th>2</th>\n",
              "      <th>3</th>\n",
              "      <th>4</th>\n",
              "      <th>5</th>\n",
              "    </tr>\n",
              "  </thead>\n",
              "  <tbody>\n",
              "    <tr>\n",
              "      <th>0</th>\n",
              "      <td>0</td>\n",
              "      <td>1</td>\n",
              "      <td>2</td>\n",
              "      <td>3</td>\n",
              "      <td>4</td>\n",
              "      <td>5</td>\n",
              "    </tr>\n",
              "    <tr>\n",
              "      <th>1</th>\n",
              "      <td>6</td>\n",
              "      <td>7</td>\n",
              "      <td>8</td>\n",
              "      <td>9</td>\n",
              "      <td>10</td>\n",
              "      <td>11</td>\n",
              "    </tr>\n",
              "    <tr>\n",
              "      <th>2</th>\n",
              "      <td>12</td>\n",
              "      <td>13</td>\n",
              "      <td>14</td>\n",
              "      <td>15</td>\n",
              "      <td>16</td>\n",
              "      <td>17</td>\n",
              "    </tr>\n",
              "  </tbody>\n",
              "</table>\n",
              "</div>\n",
              "      <button class=\"colab-df-convert\" onclick=\"convertToInteractive('df-baebb032-5c9b-4c3f-8a32-1d6843950f8b')\"\n",
              "              title=\"Convert this dataframe to an interactive table.\"\n",
              "              style=\"display:none;\">\n",
              "        \n",
              "  <svg xmlns=\"http://www.w3.org/2000/svg\" height=\"24px\"viewBox=\"0 0 24 24\"\n",
              "       width=\"24px\">\n",
              "    <path d=\"M0 0h24v24H0V0z\" fill=\"none\"/>\n",
              "    <path d=\"M18.56 5.44l.94 2.06.94-2.06 2.06-.94-2.06-.94-.94-2.06-.94 2.06-2.06.94zm-11 1L8.5 8.5l.94-2.06 2.06-.94-2.06-.94L8.5 2.5l-.94 2.06-2.06.94zm10 10l.94 2.06.94-2.06 2.06-.94-2.06-.94-.94-2.06-.94 2.06-2.06.94z\"/><path d=\"M17.41 7.96l-1.37-1.37c-.4-.4-.92-.59-1.43-.59-.52 0-1.04.2-1.43.59L10.3 9.45l-7.72 7.72c-.78.78-.78 2.05 0 2.83L4 21.41c.39.39.9.59 1.41.59.51 0 1.02-.2 1.41-.59l7.78-7.78 2.81-2.81c.8-.78.8-2.07 0-2.86zM5.41 20L4 18.59l7.72-7.72 1.47 1.35L5.41 20z\"/>\n",
              "  </svg>\n",
              "      </button>\n",
              "      \n",
              "  <style>\n",
              "    .colab-df-container {\n",
              "      display:flex;\n",
              "      flex-wrap:wrap;\n",
              "      gap: 12px;\n",
              "    }\n",
              "\n",
              "    .colab-df-convert {\n",
              "      background-color: #E8F0FE;\n",
              "      border: none;\n",
              "      border-radius: 50%;\n",
              "      cursor: pointer;\n",
              "      display: none;\n",
              "      fill: #1967D2;\n",
              "      height: 32px;\n",
              "      padding: 0 0 0 0;\n",
              "      width: 32px;\n",
              "    }\n",
              "\n",
              "    .colab-df-convert:hover {\n",
              "      background-color: #E2EBFA;\n",
              "      box-shadow: 0px 1px 2px rgba(60, 64, 67, 0.3), 0px 1px 3px 1px rgba(60, 64, 67, 0.15);\n",
              "      fill: #174EA6;\n",
              "    }\n",
              "\n",
              "    [theme=dark] .colab-df-convert {\n",
              "      background-color: #3B4455;\n",
              "      fill: #D2E3FC;\n",
              "    }\n",
              "\n",
              "    [theme=dark] .colab-df-convert:hover {\n",
              "      background-color: #434B5C;\n",
              "      box-shadow: 0px 1px 3px 1px rgba(0, 0, 0, 0.15);\n",
              "      filter: drop-shadow(0px 1px 2px rgba(0, 0, 0, 0.3));\n",
              "      fill: #FFFFFF;\n",
              "    }\n",
              "  </style>\n",
              "\n",
              "      <script>\n",
              "        const buttonEl =\n",
              "          document.querySelector('#df-baebb032-5c9b-4c3f-8a32-1d6843950f8b button.colab-df-convert');\n",
              "        buttonEl.style.display =\n",
              "          google.colab.kernel.accessAllowed ? 'block' : 'none';\n",
              "\n",
              "        async function convertToInteractive(key) {\n",
              "          const element = document.querySelector('#df-baebb032-5c9b-4c3f-8a32-1d6843950f8b');\n",
              "          const dataTable =\n",
              "            await google.colab.kernel.invokeFunction('convertToInteractive',\n",
              "                                                     [key], {});\n",
              "          if (!dataTable) return;\n",
              "\n",
              "          const docLinkHtml = 'Like what you see? Visit the ' +\n",
              "            '<a target=\"_blank\" href=https://colab.research.google.com/notebooks/data_table.ipynb>data table notebook</a>'\n",
              "            + ' to learn more about interactive tables.';\n",
              "          element.innerHTML = '';\n",
              "          dataTable['output_type'] = 'display_data';\n",
              "          await google.colab.output.renderOutput(dataTable, element);\n",
              "          const docLink = document.createElement('div');\n",
              "          docLink.innerHTML = docLinkHtml;\n",
              "          element.appendChild(docLink);\n",
              "        }\n",
              "      </script>\n",
              "    </div>\n",
              "  </div>\n",
              "  "
            ]
          },
          "metadata": {},
          "execution_count": 11
        }
      ],
      "source": [
        "# 일부 행만 읽기 nrows 사용 (3줄 읽기)\n",
        "\n",
        "df2 = pd.read_csv('test_2.csv', nrows=3, header=None)\n",
        "df2"
      ]
    },
    {
      "cell_type": "code",
      "execution_count": 12,
      "id": "0eee13b3",
      "metadata": {
        "colab": {
          "base_uri": "https://localhost:8080/",
          "height": 112
        },
        "id": "0eee13b3",
        "outputId": "c75ab799-60d6-44e4-8378-afe667b86559"
      },
      "outputs": [
        {
          "output_type": "execute_result",
          "data": {
            "text/plain": [
              "    0   1   2   3   4   5\n",
              "0  18  19  20  21  22  23\n",
              "1  24  25  26  27  28  29"
            ],
            "text/html": [
              "\n",
              "  <div id=\"df-377939ef-8ebb-43ab-b085-ee62511e9843\">\n",
              "    <div class=\"colab-df-container\">\n",
              "      <div>\n",
              "<style scoped>\n",
              "    .dataframe tbody tr th:only-of-type {\n",
              "        vertical-align: middle;\n",
              "    }\n",
              "\n",
              "    .dataframe tbody tr th {\n",
              "        vertical-align: top;\n",
              "    }\n",
              "\n",
              "    .dataframe thead th {\n",
              "        text-align: right;\n",
              "    }\n",
              "</style>\n",
              "<table border=\"1\" class=\"dataframe\">\n",
              "  <thead>\n",
              "    <tr style=\"text-align: right;\">\n",
              "      <th></th>\n",
              "      <th>0</th>\n",
              "      <th>1</th>\n",
              "      <th>2</th>\n",
              "      <th>3</th>\n",
              "      <th>4</th>\n",
              "      <th>5</th>\n",
              "    </tr>\n",
              "  </thead>\n",
              "  <tbody>\n",
              "    <tr>\n",
              "      <th>0</th>\n",
              "      <td>18</td>\n",
              "      <td>19</td>\n",
              "      <td>20</td>\n",
              "      <td>21</td>\n",
              "      <td>22</td>\n",
              "      <td>23</td>\n",
              "    </tr>\n",
              "    <tr>\n",
              "      <th>1</th>\n",
              "      <td>24</td>\n",
              "      <td>25</td>\n",
              "      <td>26</td>\n",
              "      <td>27</td>\n",
              "      <td>28</td>\n",
              "      <td>29</td>\n",
              "    </tr>\n",
              "  </tbody>\n",
              "</table>\n",
              "</div>\n",
              "      <button class=\"colab-df-convert\" onclick=\"convertToInteractive('df-377939ef-8ebb-43ab-b085-ee62511e9843')\"\n",
              "              title=\"Convert this dataframe to an interactive table.\"\n",
              "              style=\"display:none;\">\n",
              "        \n",
              "  <svg xmlns=\"http://www.w3.org/2000/svg\" height=\"24px\"viewBox=\"0 0 24 24\"\n",
              "       width=\"24px\">\n",
              "    <path d=\"M0 0h24v24H0V0z\" fill=\"none\"/>\n",
              "    <path d=\"M18.56 5.44l.94 2.06.94-2.06 2.06-.94-2.06-.94-.94-2.06-.94 2.06-2.06.94zm-11 1L8.5 8.5l.94-2.06 2.06-.94-2.06-.94L8.5 2.5l-.94 2.06-2.06.94zm10 10l.94 2.06.94-2.06 2.06-.94-2.06-.94-.94-2.06-.94 2.06-2.06.94z\"/><path d=\"M17.41 7.96l-1.37-1.37c-.4-.4-.92-.59-1.43-.59-.52 0-1.04.2-1.43.59L10.3 9.45l-7.72 7.72c-.78.78-.78 2.05 0 2.83L4 21.41c.39.39.9.59 1.41.59.51 0 1.02-.2 1.41-.59l7.78-7.78 2.81-2.81c.8-.78.8-2.07 0-2.86zM5.41 20L4 18.59l7.72-7.72 1.47 1.35L5.41 20z\"/>\n",
              "  </svg>\n",
              "      </button>\n",
              "      \n",
              "  <style>\n",
              "    .colab-df-container {\n",
              "      display:flex;\n",
              "      flex-wrap:wrap;\n",
              "      gap: 12px;\n",
              "    }\n",
              "\n",
              "    .colab-df-convert {\n",
              "      background-color: #E8F0FE;\n",
              "      border: none;\n",
              "      border-radius: 50%;\n",
              "      cursor: pointer;\n",
              "      display: none;\n",
              "      fill: #1967D2;\n",
              "      height: 32px;\n",
              "      padding: 0 0 0 0;\n",
              "      width: 32px;\n",
              "    }\n",
              "\n",
              "    .colab-df-convert:hover {\n",
              "      background-color: #E2EBFA;\n",
              "      box-shadow: 0px 1px 2px rgba(60, 64, 67, 0.3), 0px 1px 3px 1px rgba(60, 64, 67, 0.15);\n",
              "      fill: #174EA6;\n",
              "    }\n",
              "\n",
              "    [theme=dark] .colab-df-convert {\n",
              "      background-color: #3B4455;\n",
              "      fill: #D2E3FC;\n",
              "    }\n",
              "\n",
              "    [theme=dark] .colab-df-convert:hover {\n",
              "      background-color: #434B5C;\n",
              "      box-shadow: 0px 1px 3px 1px rgba(0, 0, 0, 0.15);\n",
              "      filter: drop-shadow(0px 1px 2px rgba(0, 0, 0, 0.3));\n",
              "      fill: #FFFFFF;\n",
              "    }\n",
              "  </style>\n",
              "\n",
              "      <script>\n",
              "        const buttonEl =\n",
              "          document.querySelector('#df-377939ef-8ebb-43ab-b085-ee62511e9843 button.colab-df-convert');\n",
              "        buttonEl.style.display =\n",
              "          google.colab.kernel.accessAllowed ? 'block' : 'none';\n",
              "\n",
              "        async function convertToInteractive(key) {\n",
              "          const element = document.querySelector('#df-377939ef-8ebb-43ab-b085-ee62511e9843');\n",
              "          const dataTable =\n",
              "            await google.colab.kernel.invokeFunction('convertToInteractive',\n",
              "                                                     [key], {});\n",
              "          if (!dataTable) return;\n",
              "\n",
              "          const docLinkHtml = 'Like what you see? Visit the ' +\n",
              "            '<a target=\"_blank\" href=https://colab.research.google.com/notebooks/data_table.ipynb>data table notebook</a>'\n",
              "            + ' to learn more about interactive tables.';\n",
              "          element.innerHTML = '';\n",
              "          dataTable['output_type'] = 'display_data';\n",
              "          await google.colab.output.renderOutput(dataTable, element);\n",
              "          const docLink = document.createElement('div');\n",
              "          docLink.innerHTML = docLinkHtml;\n",
              "          element.appendChild(docLink);\n",
              "        }\n",
              "      </script>\n",
              "    </div>\n",
              "  </div>\n",
              "  "
            ]
          },
          "metadata": {},
          "execution_count": 12
        }
      ],
      "source": [
        "df2 = pd.read_csv('test_2.csv', skiprows=3, header=None)\n",
        "df2"
      ]
    },
    {
      "cell_type": "markdown",
      "id": "2876daa7",
      "metadata": {
        "id": "2876daa7"
      },
      "source": [
        "### 액셀 한글 인코딩\n",
        "- 문자의 인코딩은 기본적으로 utf-8 을 사용한다\n",
        "- 그러나 한글의 경우 다른 인코딩으로 저장되는 경우가 있다\n",
        " - MS 액셀에서 csv로 저장할 때 한글이 cpc949로 인코딩된다. 이때는 아래 옵션이 필요하다\n",
        " - encoding = 'cpc949'\n",
        " - encoding = 'euc-kr'을 선택해야 하는 경우도 있다"
      ]
    },
    {
      "cell_type": "markdown",
      "id": "c83b64f1",
      "metadata": {
        "id": "c83b64f1"
      },
      "source": [
        "## zip 파일 \n",
        "### zip 파일 만들기\n",
        "- output.csv 을 output.zip로 압축하는 경우"
      ]
    },
    {
      "cell_type": "code",
      "execution_count": 13,
      "id": "e5e1bb94",
      "metadata": {
        "colab": {
          "base_uri": "https://localhost:8080/"
        },
        "id": "e5e1bb94",
        "outputId": "4ee65f63-0a27-4169-ba5b-2ba516393b75"
      },
      "outputs": [
        {
          "output_type": "stream",
          "name": "stdout",
          "text": [
            "0,1,2,3,4,5\n",
            "6,7,8,9,10,11\n",
            "12,13,14,15,16,17\n",
            "18,19,20,21,22,23\n",
            "24,25,26,27,28,29\n"
          ]
        }
      ],
      "source": [
        "!cat test_2.csv"
      ]
    },
    {
      "cell_type": "code",
      "execution_count": 14,
      "id": "8be295cc",
      "metadata": {
        "colab": {
          "base_uri": "https://localhost:8080/"
        },
        "id": "8be295cc",
        "outputId": "569258b4-9462-4576-9ac8-13a51f155b22"
      },
      "outputs": [
        {
          "output_type": "stream",
          "name": "stdout",
          "text": [
            "0.816\n",
            "0.731\n",
            "0.567\n",
            "0.889\n",
            "0.852\n",
            "0.094\n",
            "0.834\n",
            "0.989\n",
            "0.719\n",
            "0.103\n"
          ]
        }
      ],
      "source": [
        "!cat test_1.csv"
      ]
    },
    {
      "cell_type": "code",
      "execution_count": 15,
      "id": "2417f76f",
      "metadata": {
        "colab": {
          "base_uri": "https://localhost:8080/"
        },
        "id": "2417f76f",
        "outputId": "667e90a5-be71-4f74-fe20-48aabe8a18e4"
      },
      "outputs": [
        {
          "output_type": "stream",
          "name": "stdout",
          "text": [
            "['test_1.csv', 'test_2.csv']\n"
          ]
        }
      ],
      "source": [
        "## zip 파일로 압축하기\n",
        "\n",
        "import zipfile\n",
        "with zipfile.ZipFile('output.zip', 'w') as z:\n",
        "    z.write('test_1.csv')\n",
        "    z.write('test_2.csv')\n",
        "\n",
        "# zip에 포함된 파일명 보기와 압출 풀기\n",
        "\n",
        "with zipfile.ZipFile(\"output.zip\", 'r') as z: \n",
        "    print(z.namelist()) \n",
        "    z.extractall() "
      ]
    },
    {
      "cell_type": "markdown",
      "id": "eefb97fe",
      "metadata": {
        "id": "eefb97fe"
      },
      "source": [
        "- (참고) read_csv에서 zip 파일을 바로 읽을 수 있다 (압축을 풀 필요 없다)"
      ]
    },
    {
      "cell_type": "code",
      "execution_count": 16,
      "id": "505c0b01",
      "metadata": {
        "id": "505c0b01"
      },
      "outputs": [],
      "source": [
        "# pd.read_csv('output.zip', header=None)  "
      ]
    },
    {
      "cell_type": "markdown",
      "id": "68034c94",
      "metadata": {
        "id": "68034c94"
      },
      "source": [
        "# 폴더 작업"
      ]
    },
    {
      "cell_type": "markdown",
      "id": "b00287b6",
      "metadata": {
        "id": "b00287b6"
      },
      "source": [
        "## 현재 폴더 위치 보기\n",
        "- cwd (current working directory)"
      ]
    },
    {
      "cell_type": "code",
      "execution_count": 17,
      "id": "46cecf30",
      "metadata": {
        "colab": {
          "base_uri": "https://localhost:8080/"
        },
        "id": "46cecf30",
        "outputId": "3a71426f-5704-4b09-b11f-eb140e7babc3"
      },
      "outputs": [
        {
          "output_type": "stream",
          "name": "stdout",
          "text": [
            "/content\n"
          ]
        }
      ],
      "source": [
        "## 현재 작업중인 폴더 경로 보기\n",
        "\n",
        "import os\n",
        "cwd = os.getcwd()\n",
        "print(cwd)"
      ]
    },
    {
      "cell_type": "code",
      "execution_count": 18,
      "id": "327f211f",
      "metadata": {
        "id": "327f211f"
      },
      "outputs": [],
      "source": [
        "## 특정 폴더가 없으면 새로 만들기\n",
        "\n",
        "if not os.path.exists(\"./data_tmp\"):\n",
        "    os.mkdir(\"./data_tmp\")"
      ]
    },
    {
      "cell_type": "markdown",
      "id": "a8535d48",
      "metadata": {
        "id": "a8535d48"
      },
      "source": [
        "## 폴더의 파일 목록 얻기\n",
        "- glob() 사용: 파일 타입을 지정할 수 있다\n",
        "- listdir() 사용: 경로를 줄 수 있다"
      ]
    },
    {
      "cell_type": "markdown",
      "id": "d469c296",
      "metadata": {
        "id": "d469c296"
      },
      "source": [
        "### glob()를 사용"
      ]
    },
    {
      "cell_type": "code",
      "execution_count": 24,
      "id": "455c954d",
      "metadata": {
        "colab": {
          "base_uri": "https://localhost:8080/"
        },
        "id": "455c954d",
        "outputId": "66e565c7-f58a-499c-d534-b4132f1fcd78"
      },
      "outputs": [
        {
          "output_type": "execute_result",
          "data": {
            "text/plain": [
              "['data_tmp', 'test_2.csv', 'test_1.csv', 'output.zip', 'sample_data']"
            ]
          },
          "metadata": {},
          "execution_count": 24
        }
      ],
      "source": [
        "## 현재 폴더의 파일 목록 얻기\n",
        "\n",
        "from glob import glob\n",
        "f_list = glob('*')\n",
        "f_list"
      ]
    },
    {
      "cell_type": "code",
      "execution_count": 20,
      "id": "8dc8e743",
      "metadata": {
        "colab": {
          "base_uri": "https://localhost:8080/"
        },
        "id": "8dc8e743",
        "outputId": "1d86c469-906a-47a0-e09f-5377c91fba7a"
      },
      "outputs": [
        {
          "output_type": "execute_result",
          "data": {
            "text/plain": [
              "['data_tmp', 'output.zip', 'sample_data', 'test_1.csv', 'test_2.csv']"
            ]
          },
          "metadata": {},
          "execution_count": 20
        }
      ],
      "source": [
        "sorted(f_list)"
      ]
    },
    {
      "cell_type": "code",
      "execution_count": 21,
      "id": "90c81f66",
      "metadata": {
        "colab": {
          "base_uri": "https://localhost:8080/"
        },
        "id": "90c81f66",
        "outputId": "86352953-e3da-4a70-c976-63e05364a2a8"
      },
      "outputs": [
        {
          "output_type": "execute_result",
          "data": {
            "text/plain": [
              "['data_tmp', 'test_2.csv', 'test_1.csv', 'output.zip', 'sample_data']"
            ]
          },
          "metadata": {},
          "execution_count": 21
        }
      ],
      "source": [
        "f_list"
      ]
    },
    {
      "cell_type": "markdown",
      "source": [
        "## listdir() 사용\n",
        "- 인자에 파일을 찾을 폴더 경로를 지정할 수 있다\n",
        "- 쓰지 않으면 현재 폴더를 찾는다"
      ],
      "metadata": {
        "id": "ue1rNLZ-PgQa"
      },
      "id": "ue1rNLZ-PgQa"
    },
    {
      "cell_type": "code",
      "source": [
        "os.listdir()"
      ],
      "metadata": {
        "colab": {
          "base_uri": "https://localhost:8080/"
        },
        "id": "qHW_nf3jO1iC",
        "outputId": "ed7f4274-1538-43b2-a0bb-8ff44e4f661e"
      },
      "id": "qHW_nf3jO1iC",
      "execution_count": 22,
      "outputs": [
        {
          "output_type": "execute_result",
          "data": {
            "text/plain": [
              "['.config',\n",
              " 'data_tmp',\n",
              " 'test_2.csv',\n",
              " 'test_1.csv',\n",
              " 'output.zip',\n",
              " 'sample_data']"
            ]
          },
          "metadata": {},
          "execution_count": 22
        }
      ]
    },
    {
      "cell_type": "markdown",
      "source": [
        "## 기타 폴더 및 파일 관리 함수\n",
        "- os 패키지에서 제공하는 함수\n",
        " - 폴더 생성 mkdir()\n",
        " - 폴더 위치 이동 chdir()\n",
        " - 파일 이름 변경 rename()\n",
        " - 파일 삭제 remove()\n",
        " - 폴더 삭제 rmdir()"
      ],
      "metadata": {
        "id": "85844c89"
      },
      "id": "85844c89"
    }
  ],
  "metadata": {
    "kernelspec": {
      "display_name": "Python 3",
      "language": "python",
      "name": "python3"
    },
    "language_info": {
      "codemirror_mode": {
        "name": "ipython",
        "version": 3
      },
      "file_extension": ".py",
      "mimetype": "text/x-python",
      "name": "python",
      "nbconvert_exporter": "python",
      "pygments_lexer": "ipython3",
      "version": "3.8.8"
    },
    "toc": {
      "base_numbering": 1,
      "nav_menu": {},
      "number_sections": false,
      "sideBar": true,
      "skip_h1_title": false,
      "title_cell": "Table of Contents",
      "title_sidebar": "Contents",
      "toc_cell": false,
      "toc_position": {
        "height": "calc(100% - 180px)",
        "left": "10px",
        "top": "150px",
        "width": "165px"
      },
      "toc_section_display": true,
      "toc_window_display": false
    },
    "colab": {
      "provenance": []
    }
  },
  "nbformat": 4,
  "nbformat_minor": 5
}